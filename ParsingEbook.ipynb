{
 "cells": [
  {
   "cell_type": "code",
   "execution_count": 1,
   "metadata": {},
   "outputs": [],
   "source": [
    "author_ids = {\n",
    "  \"Достоевский Ф. М.\": 9150,\n",
    "  \"Роллинс Дж.\": 59396,\n",
    "  \"Фицджеральд Ф. С.\": 28727,\n",
    "  \"Глуховский Д. А.\": 53427,\n",
    "  \"Стругацкий А. Н.\": 26268,\n",
    "  \"Лукьяненко С. В.\": 16626,\n",
    "  \"Фрай М.\": 28927,\n",
    "  \"Хантер Э.\": 37969,\n",
    "  \"Роулинг Дж. К.\": 104832\n",
    "}"
   ]
  },
  {
   "cell_type": "code",
   "execution_count": 2,
   "metadata": {},
   "outputs": [],
   "source": [
    "import requests\n",
    "from bs4 import BeautifulSoup"
   ]
  },
  {
   "cell_type": "code",
   "execution_count": 3,
   "metadata": {},
   "outputs": [],
   "source": [
    "headers = {'User-Agent': 'Mozilla/5.0 (Macintosh; Intel Mac OS X 10_13_6) AppleWebKit/537.36 (KHTML, like Gecko) Chrome/71.0.3578.98 Safari/537.36'}"
   ]
  },
  {
   "cell_type": "code",
   "execution_count": 4,
   "metadata": {},
   "outputs": [],
   "source": [
    "from tqdm import tqdm\n",
    "from multiprocessing import Pool, Lock, Value\n",
    "from multiprocessing import Manager\n",
    "from time import sleep\n",
    "from random import random\n",
    "\n",
    "mutex = Lock()\n",
    "n_processed = Value('i', 0)\n",
    "\n",
    "def get_links_by_author_id(author_id):\n",
    "    links = []\n",
    "    for attempt in range(5):\n",
    "        req = requests.get('https://www.moscowbooks.ru/catalog/author/{}'.format(author_id))\n",
    "        if req.status_code == 200:\n",
    "            break\n",
    "        if req.status_code != 200 and attempt == 4:\n",
    "            return links\n",
    "    author_html = req.text\n",
    "    soup = BeautifulSoup(author_html, 'html.parser')\n",
    "    pages_attr = soup.find(class_='pager__text', title='перейти на последнюю страницу')\n",
    "    if pages_attr:\n",
    "        max_page = int(pages_attr .text)\n",
    "    else:\n",
    "        max_page = 1\n",
    "    for page_id in range(1, max_page + 1):\n",
    "        author_page_html = requests.get('https://www.moscowbooks.ru/catalog/author/{}/?page={}'.format(author_id, page_id)).text\n",
    "        soup = BeautifulSoup(author_page_html, 'html.parser')\n",
    "\n",
    "        page_ids = soup.find_all(class_='book-preview__fav fav js-fav')\n",
    "        page_ids = [book_id['data-productid'] for book_id in page_ids]\n",
    "        \n",
    "        links.extend(page_ids)\n",
    "        sleep(0.5 + random() / 2)\n",
    "    return links\n",
    "def get_links_by_author_id_wrapper(uid):\n",
    "    res = get_links_by_author_id(uid) \n",
    "    with mutex:\n",
    "        # в этом блоке можно безопасно менять общие объекты для процессов\n",
    "        global n_processed\n",
    "        n_processed.value += 1\n",
    "        print(f\"\\r{n_processed.value} objects are processed..., author_id={uid}\", end='', flush=True)\n",
    "    return res"
   ]
  },
  {
   "cell_type": "code",
   "execution_count": 5,
   "metadata": {},
   "outputs": [
    {
     "name": "stdout",
     "output_type": "stream",
     "text": [
      "9 objects are processed..., author_id=379692"
     ]
    }
   ],
   "source": [
    "from multiprocessing import Pool, Lock, Value\n",
    "with Pool(processes=5) as pool:\n",
    "    res = pool.map(get_links_by_author_id_wrapper, author_ids.values())"
   ]
  },
  {
   "cell_type": "code",
   "execution_count": 6,
   "metadata": {},
   "outputs": [
    {
     "data": {
      "text/plain": [
       "243"
      ]
     },
     "execution_count": 6,
     "metadata": {},
     "output_type": "execute_result"
    }
   ],
   "source": [
    "import functools\n",
    "import operator\n",
    "book_links = functools.reduce(operator.iconcat, res, [])\n",
    "len(book_links)"
   ]
  },
  {
   "cell_type": "code",
   "execution_count": 7,
   "metadata": {},
   "outputs": [],
   "source": [
    "import re\n",
    "from time import sleep\n",
    "from random import random\n",
    "import unicodedata\n",
    "\n",
    "RE_SPACES_REMOVE = re.compile(r'\\s+') #3\n",
    "RE_BREAK_REMOVE = re.compile(r'\\r\\n')\n",
    "RE_FIX_PRICE = re.compile('(?<=\\d)+ (?=\\d)+')\n",
    "\n",
    "def extract_book_info(book_id, max_attempts=5): #2\n",
    "    details = dict() #7\n",
    "    \n",
    "    for attempt in range(max_attempts):\n",
    "        req = requests.get('https://www.moscowbooks.ru/book/{}'.format(book_id))\n",
    "        if req.status_code == 200:\n",
    "            break\n",
    "        if req.status_code != 200 and attempt == max_attempts - 1:\n",
    "            return details\n",
    "    book_html = req.text\n",
    "    book_html = RE_BREAK_REMOVE.sub('', book_html)\n",
    "    book_html = RE_SPACES_REMOVE.sub(' ', book_html).strip()\n",
    "    soup = BeautifulSoup(book_html, 'html.parser')\n",
    "    \n",
    "    author_name = ', '.join([a.text.strip() for a in soup.find(class_='page-header__author')\\\n",
    "                             .find_all('a')]) #5, 6\n",
    "    details['Автор'] = author_name\n",
    "\n",
    "    details['Название'] = soup.find('span', class_='link-gray-light').text.strip()\n",
    "    \n",
    "    soup = soup.find('div', class_='book') #8\n",
    "    \n",
    "    relative_path = soup.find(class_='book__img book__img_default gallery__img')['src']\n",
    "    img_path = 'https://www.moscowbooks.ru{}'.format(relative_path)\n",
    "    details['Обложка'] = img_path\n",
    "    \n",
    "    stickers = soup.find(class_='book__stickers stickers stickers_lg')\n",
    "    if stickers:\n",
    "        gift_stickers = stickers.find(class_='stickers__icon icon-gift')\n",
    "        gift_stickers = [] if not gift_stickers else [gift_stickers['title']]\n",
    "        stickers = ', '.join(stickers.text.split() + gift_stickers)\n",
    "    details['Стикеры'] = stickers\n",
    "    \n",
    "    details['Наличие'] = bool(soup.find(class_='book__shop-details').find(class_='icon-check'))\n",
    "    \n",
    "    price = soup.find(class_='book__price')\n",
    "    if price:\n",
    "        price = price.text.strip()\n",
    "        price = unicodedata.normalize('NFKD', price)\n",
    "        price = RE_FIX_PRICE.sub('', price)\n",
    "    details['Цена'] = price\n",
    "    \n",
    "    genres = soup.find_all(class_='genre_link', text=True)\n",
    "    if genres:\n",
    "        genres = ', '.join([g.text.strip() for g in genres]) #5\n",
    "    else:\n",
    "        genres = ''\n",
    "    details['Жанры'] = genres\n",
    "    \n",
    "    details['Рейтинг'] = int(soup.find(class_='book___rating-stars rating-stars rating-stars_lg')['data-rate'])\n",
    "\n",
    "    cells = soup.find_all(class_='book__details-item')\n",
    "    for cell in cells:\n",
    "        book_details_name = cell.dt.text.replace(':', '').strip()\n",
    "        book_deatils_value = cell.find(class_='book__details-value').text.strip()\n",
    "        details[book_details_name] = book_deatils_value\n",
    "    details['Код товара'] = int(details['Код товара'])\n",
    "    \n",
    "    #4 Честно говоря, сначала искал все теги 'book__decription', но тогда приходилось избавляться от\n",
    "    # 'Читать далее...' и 'Аннотация к книге...', удаляя теги 'b' и 'a', что в итоге раздувало код,\n",
    "    # и прошлое решение мне показалось оптимальным\n",
    "    # Другого решения не вижу..(\n",
    "    \n",
    "    descr = soup.find_all(class_='book__description')[-1]\n",
    "    ann = descr.find('b') #Удаляем 'Аннотация...'\n",
    "    if ann:\n",
    "        ann.decompose()\n",
    "    read_more = descr.find('a')#Удаляем 'Читать далее...'\n",
    "    if read_more:\n",
    "        read_more.decompose()\n",
    "    if descr:\n",
    "        details['Описание'] = descr.text\n",
    "    \n",
    "    #Случайная задержка чтобы так сразу не вычислили\n",
    "    sleep(1.5 + random() / 2)\n",
    "    return details\n"
   ]
  },
  {
   "cell_type": "code",
   "execution_count": 8,
   "metadata": {},
   "outputs": [],
   "source": [
    "test = extract_book_info('726985')"
   ]
  },
  {
   "cell_type": "code",
   "execution_count": 9,
   "metadata": {},
   "outputs": [
    {
     "data": {
      "text/plain": [
       "{'Автор': 'Роулинг Дж. К.',\n",
       " 'Название': 'Гарри Поттер и Философский камень',\n",
       " 'Обложка': 'https://www.moscowbooks.ru/image/book/454/w259/i454685.jpg',\n",
       " 'Стикеры': '',\n",
       " 'Наличие': True,\n",
       " 'Цена': '487 руб.',\n",
       " 'Жанры': '',\n",
       " 'Рейтинг': 1,\n",
       " 'Издательство': 'Махаон; Азбука-Аттикус',\n",
       " 'Год издания': '2014',\n",
       " 'Место издания': 'Москва',\n",
       " 'Возраст': '11 +',\n",
       " 'Язык текста': 'русский',\n",
       " 'Язык оригинала': 'английский',\n",
       " 'Перевод': 'Спивак М.',\n",
       " 'Тип обложки': 'Твердый переплет',\n",
       " 'Формат': '84х108 1/32',\n",
       " 'Размеры в мм (ДхШхВ)': '200x130',\n",
       " 'Вес': '475 гр.',\n",
       " 'Страниц': '432',\n",
       " 'Тираж': '35000 экз.',\n",
       " 'Код товара': 726985,\n",
       " 'Артикул': 'А0000007533',\n",
       " 'ISBN': '978-5-389-07435-4',\n",
       " 'В продаже с': '21.02.2014',\n",
       " 'Описание': 'Важные отличия нового издания книг о Гарри Поттере от предыдущего — знаменитый перевод Марии Спивак и новое современное оформление. Некоторое время назад в одном из интервью Мария Спивак очень точно объяснила, чем именно отличается ее перевод от ранее издававшегося:«Известно, что имена персонажей в книгах Роулинг в большинстве своем говорящие, и любой переводчик, естественно, стремится этот дополнительный смысл передать. Оставлять такие имена без перевода, с моей точки зрения, неправильно: подтекст и, следовательно, характер персонажа должен улавливаться сразу и без всяких сносок, тем более что в случае с именами у Роулинг сноски иногда занимали бы полстраницы. Разумеется, «Росмэн» сделал это по-своему, я — по-своему. И это — хорошая возможность для читателей взглянуть на полюбившееся произведение новым взглядом. Правда, тем, кому привычка заменяет счастье, возможно, придется нелегко.Но имена — всего лишь переменные величины, они могут нравиться или не нравиться, вопрос вкуса. Главное в другом — мои переводы, над которыми была проделана огромная работа мной, редакторами и корректорами, отличаются абсолютной выверенностью текста по отношению к оригиналу. Выверенностью во всем до мелочей. Я могу с уверенностью сказать, что в их нынешнем виде мои переводы наиболее точно передают «дух и букву» произведений Роулинг». В качестве оформления были выбраны работы американского художника Кацу Кибуиши (Kazu Kibuishi). Его иллюстрации впервые украсили юбилейное переиздание 7 книг о Гарри Поттере издательства «Scholastic» в США, приуроченное к 15-летию с момента публикации первой книги о юном колдуне.  '}"
      ]
     },
     "execution_count": 9,
     "metadata": {},
     "output_type": "execute_result"
    }
   ],
   "source": [
    "test"
   ]
  },
  {
   "cell_type": "code",
   "execution_count": 10,
   "metadata": {},
   "outputs": [
    {
     "data": {
      "text/plain": [
       "'Баева Н. Д., Зебряк Т. А.'"
      ]
     },
     "execution_count": 10,
     "metadata": {},
     "output_type": "execute_result"
    }
   ],
   "source": [
    "multiple_author_check = extract_book_info('855979')\n",
    "multiple_author_check['Автор']"
   ]
  },
  {
   "cell_type": "code",
   "execution_count": 11,
   "metadata": {},
   "outputs": [
    {
     "data": {
      "text/plain": [
       "(1, 4, 5)"
      ]
     },
     "execution_count": 11,
     "metadata": {},
     "output_type": "execute_result"
    }
   ],
   "source": [
    "rating_check_1 = extract_book_info('726985') \n",
    "rating_check_4 = extract_book_info('995166')\n",
    "rating_check_5 = extract_book_info('822220')\n",
    "rating_check_1['Рейтинг'], rating_check_4['Рейтинг'], rating_check_5['Рейтинг']"
   ]
  },
  {
   "cell_type": "code",
   "execution_count": 12,
   "metadata": {},
   "outputs": [
    {
     "data": {
      "text/plain": [
       "(True, False)"
      ]
     },
     "execution_count": 12,
     "metadata": {},
     "output_type": "execute_result"
    }
   ],
   "source": [
    "exist_check_true = extract_book_info('1017467')\n",
    "exist_check_false = extract_book_info('1004913')\n",
    "exist_check_true['Наличие'], exist_check_false['Наличие']"
   ]
  },
  {
   "cell_type": "code",
   "execution_count": 13,
   "metadata": {},
   "outputs": [
    {
     "data": {
      "text/plain": [
       "('Новинка', 'Бестселлер', 'Новинка, Бестселлер', 'Идея подарка')"
      ]
     },
     "execution_count": 13,
     "metadata": {},
     "output_type": "execute_result"
    }
   ],
   "source": [
    "stickers_check_new = extract_book_info('1017583')\n",
    "stickers_check_bestseller = extract_book_info('1011825')\n",
    "stickers_check_both = extract_book_info('1016150')\n",
    "stickers_check_gift = extract_book_info('873080')\n",
    "stickers_check_new['Стикеры'], stickers_check_bestseller['Стикеры'], stickers_check_both['Стикеры'], stickers_check_gift['Стикеры']"
   ]
  },
  {
   "cell_type": "code",
   "execution_count": 14,
   "metadata": {},
   "outputs": [
    {
     "data": {
      "text/plain": [
       "('Современная зарубежная проза',\n",
       " 'Классическая российская проза',\n",
       " 'Триллер, Современный детектив')"
      ]
     },
     "execution_count": 14,
     "metadata": {},
     "output_type": "execute_result"
    }
   ],
   "source": [
    "check_genres_1 = extract_book_info('1013153')\n",
    "check_genres_2 = extract_book_info('1000435')\n",
    "check_genres_3 = extract_book_info('1013396')\n",
    "check_genres_1['Жанры'], check_genres_2['Жанры'], check_genres_3['Жанры']"
   ]
  },
  {
   "cell_type": "code",
   "execution_count": 15,
   "metadata": {},
   "outputs": [
    {
     "data": {
      "text/plain": [
       "('614 руб.', '2888 руб.')"
      ]
     },
     "execution_count": 15,
     "metadata": {},
     "output_type": "execute_result"
    }
   ],
   "source": [
    "check_price = extract_book_info('1013659')\n",
    "check_price_spaces = extract_book_info('902567')\n",
    "check_price['Цена'], check_price_spaces['Цена']"
   ]
  },
  {
   "cell_type": "code",
   "execution_count": 16,
   "metadata": {},
   "outputs": [],
   "source": [
    "mutex = Lock()\n",
    "n_processed = Value('i', 0)\n",
    "\n",
    "def extract_book_info_wrapper(book_id):\n",
    "    res = extract_book_info(book_id) \n",
    "    with mutex:\n",
    "        # в этом блоке можно безопасно менять общие объекты для процессов\n",
    "        global n_processed\n",
    "        n_processed.value += 1\n",
    "        if n_processed.value % 10 == 0:\n",
    "            print(f\"\\r{n_processed.value} objects are processed...\", end='', flush=True)\n",
    "    return res"
   ]
  },
  {
   "cell_type": "code",
   "execution_count": 17,
   "metadata": {},
   "outputs": [
    {
     "name": "stdout",
     "output_type": "stream",
     "text": [
      "240 objects are processed..."
     ]
    }
   ],
   "source": [
    "with Pool(processes=10) as pool:\n",
    "    result = pool.map(extract_book_info_wrapper, book_links)"
   ]
  },
  {
   "cell_type": "code",
   "execution_count": 18,
   "metadata": {},
   "outputs": [
    {
     "data": {
      "text/html": [
       "<div>\n",
       "<style scoped>\n",
       "    .dataframe tbody tr th:only-of-type {\n",
       "        vertical-align: middle;\n",
       "    }\n",
       "\n",
       "    .dataframe tbody tr th {\n",
       "        vertical-align: top;\n",
       "    }\n",
       "\n",
       "    .dataframe thead th {\n",
       "        text-align: right;\n",
       "    }\n",
       "</style>\n",
       "<table border=\"1\" class=\"dataframe\">\n",
       "  <thead>\n",
       "    <tr style=\"text-align: right;\">\n",
       "      <th></th>\n",
       "      <th>Автор</th>\n",
       "      <th>Название</th>\n",
       "      <th>Обложка</th>\n",
       "      <th>Стикеры</th>\n",
       "      <th>Наличие</th>\n",
       "      <th>Цена</th>\n",
       "      <th>Жанры</th>\n",
       "      <th>Рейтинг</th>\n",
       "      <th>Издательство</th>\n",
       "      <th>Год издания</th>\n",
       "      <th>...</th>\n",
       "      <th>Бумага</th>\n",
       "      <th>Обрез</th>\n",
       "      <th>Иллюстрации</th>\n",
       "      <th>Язык оригинала</th>\n",
       "      <th>Перевод</th>\n",
       "      <th>Футляр</th>\n",
       "      <th>Производитель</th>\n",
       "      <th>Год производства</th>\n",
       "      <th>Место производства</th>\n",
       "      <th>Иллюстраторы</th>\n",
       "    </tr>\n",
       "  </thead>\n",
       "  <tbody>\n",
       "    <tr>\n",
       "      <th>0</th>\n",
       "      <td>Достоевский Ф. М.</td>\n",
       "      <td>Преступление и наказание</td>\n",
       "      <td>https://www.moscowbooks.ru/image/book/675/w259...</td>\n",
       "      <td></td>\n",
       "      <td>True</td>\n",
       "      <td>136 руб.</td>\n",
       "      <td>Классическая российская проза</td>\n",
       "      <td>5</td>\n",
       "      <td>Эксмо</td>\n",
       "      <td>2019</td>\n",
       "      <td>...</td>\n",
       "      <td>NaN</td>\n",
       "      <td>NaN</td>\n",
       "      <td>NaN</td>\n",
       "      <td>NaN</td>\n",
       "      <td>NaN</td>\n",
       "      <td>NaN</td>\n",
       "      <td>NaN</td>\n",
       "      <td>NaN</td>\n",
       "      <td>NaN</td>\n",
       "      <td>NaN</td>\n",
       "    </tr>\n",
       "    <tr>\n",
       "      <th>1</th>\n",
       "      <td>Достоевский Ф. М.</td>\n",
       "      <td>Игрок</td>\n",
       "      <td>https://www.moscowbooks.ru/image/book/668/w259...</td>\n",
       "      <td></td>\n",
       "      <td>False</td>\n",
       "      <td>220 руб.</td>\n",
       "      <td></td>\n",
       "      <td>0</td>\n",
       "      <td>Искателькнига</td>\n",
       "      <td>2015</td>\n",
       "      <td>...</td>\n",
       "      <td>NaN</td>\n",
       "      <td>NaN</td>\n",
       "      <td>NaN</td>\n",
       "      <td>NaN</td>\n",
       "      <td>NaN</td>\n",
       "      <td>NaN</td>\n",
       "      <td>NaN</td>\n",
       "      <td>NaN</td>\n",
       "      <td>NaN</td>\n",
       "      <td>NaN</td>\n",
       "    </tr>\n",
       "    <tr>\n",
       "      <th>2</th>\n",
       "      <td>Достоевский Ф. М.</td>\n",
       "      <td>Чужая жена и муж под кроватью</td>\n",
       "      <td>https://www.moscowbooks.ru/image/book/664/w259...</td>\n",
       "      <td></td>\n",
       "      <td>True</td>\n",
       "      <td>144 руб.</td>\n",
       "      <td>Классическая российская проза</td>\n",
       "      <td>0</td>\n",
       "      <td>АСТ</td>\n",
       "      <td>2019</td>\n",
       "      <td>...</td>\n",
       "      <td>NaN</td>\n",
       "      <td>NaN</td>\n",
       "      <td>NaN</td>\n",
       "      <td>NaN</td>\n",
       "      <td>NaN</td>\n",
       "      <td>NaN</td>\n",
       "      <td>NaN</td>\n",
       "      <td>NaN</td>\n",
       "      <td>NaN</td>\n",
       "      <td>NaN</td>\n",
       "    </tr>\n",
       "    <tr>\n",
       "      <th>3</th>\n",
       "      <td>Достоевский Ф. М.</td>\n",
       "      <td>Полное собрание романов в двух томах. В 2 книгах</td>\n",
       "      <td>https://www.moscowbooks.ru/image/book/661/w259...</td>\n",
       "      <td></td>\n",
       "      <td>True</td>\n",
       "      <td>1880 руб.</td>\n",
       "      <td>Классическая российская проза</td>\n",
       "      <td>0</td>\n",
       "      <td>АЛЬФА-КНИГА</td>\n",
       "      <td>2019</td>\n",
       "      <td>...</td>\n",
       "      <td>NaN</td>\n",
       "      <td>NaN</td>\n",
       "      <td>NaN</td>\n",
       "      <td>NaN</td>\n",
       "      <td>NaN</td>\n",
       "      <td>NaN</td>\n",
       "      <td>NaN</td>\n",
       "      <td>NaN</td>\n",
       "      <td>NaN</td>\n",
       "      <td>NaN</td>\n",
       "    </tr>\n",
       "    <tr>\n",
       "      <th>4</th>\n",
       "      <td>Достоевский Ф. М.</td>\n",
       "      <td>Преступление и наказание</td>\n",
       "      <td>https://www.moscowbooks.ru/image/book/659/w259...</td>\n",
       "      <td>None</td>\n",
       "      <td>True</td>\n",
       "      <td>12654 руб.</td>\n",
       "      <td></td>\n",
       "      <td>0</td>\n",
       "      <td>NaN</td>\n",
       "      <td>2019</td>\n",
       "      <td>...</td>\n",
       "      <td>Офсетная</td>\n",
       "      <td>Рисованный</td>\n",
       "      <td>С иллюстрациями</td>\n",
       "      <td>NaN</td>\n",
       "      <td>NaN</td>\n",
       "      <td>NaN</td>\n",
       "      <td>NaN</td>\n",
       "      <td>NaN</td>\n",
       "      <td>NaN</td>\n",
       "      <td>NaN</td>\n",
       "    </tr>\n",
       "  </tbody>\n",
       "</table>\n",
       "<p>5 rows × 35 columns</p>\n",
       "</div>"
      ],
      "text/plain": [
       "               Автор                                          Название  \\\n",
       "0  Достоевский Ф. М.                          Преступление и наказание   \n",
       "1  Достоевский Ф. М.                                             Игрок   \n",
       "2  Достоевский Ф. М.                     Чужая жена и муж под кроватью   \n",
       "3  Достоевский Ф. М.  Полное собрание романов в двух томах. В 2 книгах   \n",
       "4  Достоевский Ф. М.                          Преступление и наказание   \n",
       "\n",
       "                                             Обложка Стикеры  Наличие  \\\n",
       "0  https://www.moscowbooks.ru/image/book/675/w259...             True   \n",
       "1  https://www.moscowbooks.ru/image/book/668/w259...            False   \n",
       "2  https://www.moscowbooks.ru/image/book/664/w259...             True   \n",
       "3  https://www.moscowbooks.ru/image/book/661/w259...             True   \n",
       "4  https://www.moscowbooks.ru/image/book/659/w259...    None     True   \n",
       "\n",
       "         Цена                          Жанры  Рейтинг   Издательство  \\\n",
       "0    136 руб.  Классическая российская проза        5          Эксмо   \n",
       "1    220 руб.                                       0  Искателькнига   \n",
       "2    144 руб.  Классическая российская проза        0            АСТ   \n",
       "3   1880 руб.  Классическая российская проза        0    АЛЬФА-КНИГА   \n",
       "4  12654 руб.                                       0            NaN   \n",
       "\n",
       "  Год издания  ...    Бумага       Обрез      Иллюстрации Язык оригинала  \\\n",
       "0        2019  ...       NaN         NaN              NaN            NaN   \n",
       "1        2015  ...       NaN         NaN              NaN            NaN   \n",
       "2        2019  ...       NaN         NaN              NaN            NaN   \n",
       "3        2019  ...       NaN         NaN              NaN            NaN   \n",
       "4        2019  ...  Офсетная  Рисованный  С иллюстрациями            NaN   \n",
       "\n",
       "  Перевод Футляр Производитель Год производства  Место производства  \\\n",
       "0     NaN    NaN           NaN              NaN                 NaN   \n",
       "1     NaN    NaN           NaN              NaN                 NaN   \n",
       "2     NaN    NaN           NaN              NaN                 NaN   \n",
       "3     NaN    NaN           NaN              NaN                 NaN   \n",
       "4     NaN    NaN           NaN              NaN                 NaN   \n",
       "\n",
       "  Иллюстраторы  \n",
       "0          NaN  \n",
       "1          NaN  \n",
       "2          NaN  \n",
       "3          NaN  \n",
       "4          NaN  \n",
       "\n",
       "[5 rows x 35 columns]"
      ]
     },
     "execution_count": 18,
     "metadata": {},
     "output_type": "execute_result"
    }
   ],
   "source": [
    "import pandas as pd\n",
    "df = pd.DataFrame(result)\n",
    "df.head()"
   ]
  },
  {
   "cell_type": "code",
   "execution_count": 19,
   "metadata": {},
   "outputs": [
    {
     "data": {
      "text/html": [
       "<div>\n",
       "<style scoped>\n",
       "    .dataframe tbody tr th:only-of-type {\n",
       "        vertical-align: middle;\n",
       "    }\n",
       "\n",
       "    .dataframe tbody tr th {\n",
       "        vertical-align: top;\n",
       "    }\n",
       "\n",
       "    .dataframe thead th {\n",
       "        text-align: right;\n",
       "    }\n",
       "</style>\n",
       "<table border=\"1\" class=\"dataframe\">\n",
       "  <thead>\n",
       "    <tr style=\"text-align: right;\">\n",
       "      <th></th>\n",
       "      <th>Автор</th>\n",
       "      <th>Название</th>\n",
       "      <th>Обложка</th>\n",
       "      <th>Стикеры</th>\n",
       "      <th>Наличие</th>\n",
       "      <th>Цена</th>\n",
       "      <th>Жанры</th>\n",
       "      <th>Рейтинг</th>\n",
       "      <th>Издательство</th>\n",
       "      <th>Год издания</th>\n",
       "      <th>...</th>\n",
       "      <th>Бумага</th>\n",
       "      <th>Обрез</th>\n",
       "      <th>Иллюстрации</th>\n",
       "      <th>Язык оригинала</th>\n",
       "      <th>Перевод</th>\n",
       "      <th>Футляр</th>\n",
       "      <th>Производитель</th>\n",
       "      <th>Год производства</th>\n",
       "      <th>Место производства</th>\n",
       "      <th>Иллюстраторы</th>\n",
       "    </tr>\n",
       "  </thead>\n",
       "  <tbody>\n",
       "    <tr>\n",
       "      <th>77</th>\n",
       "      <td>Достоевский Ф. М.</td>\n",
       "      <td>Преступление и наказание. 2 CD: mp3</td>\n",
       "      <td>https://www.moscowbooks.ru/image/book/141/w259...</td>\n",
       "      <td></td>\n",
       "      <td>True</td>\n",
       "      <td>240 руб.</td>\n",
       "      <td></td>\n",
       "      <td>0</td>\n",
       "      <td></td>\n",
       "      <td></td>\n",
       "      <td>...</td>\n",
       "      <td></td>\n",
       "      <td></td>\n",
       "      <td></td>\n",
       "      <td></td>\n",
       "      <td></td>\n",
       "      <td></td>\n",
       "      <td>Ардис</td>\n",
       "      <td>2005</td>\n",
       "      <td>Москва</td>\n",
       "      <td></td>\n",
       "    </tr>\n",
       "    <tr>\n",
       "      <th>76</th>\n",
       "      <td>Достоевский Ф. М.</td>\n",
       "      <td>Собрание сочинений: В 4 томах</td>\n",
       "      <td>https://www.moscowbooks.ru/image/book/245/w259...</td>\n",
       "      <td></td>\n",
       "      <td>True</td>\n",
       "      <td>5912 руб.</td>\n",
       "      <td>Классическая российская проза</td>\n",
       "      <td>0</td>\n",
       "      <td>Янтарный сказ</td>\n",
       "      <td>2008</td>\n",
       "      <td>...</td>\n",
       "      <td></td>\n",
       "      <td></td>\n",
       "      <td></td>\n",
       "      <td></td>\n",
       "      <td></td>\n",
       "      <td></td>\n",
       "      <td></td>\n",
       "      <td></td>\n",
       "      <td></td>\n",
       "      <td></td>\n",
       "    </tr>\n",
       "    <tr>\n",
       "      <th>75</th>\n",
       "      <td>Достоевский Ф. М.</td>\n",
       "      <td>Идиот</td>\n",
       "      <td>https://www.moscowbooks.ru/image/book/257/w259...</td>\n",
       "      <td></td>\n",
       "      <td>True</td>\n",
       "      <td>420 руб.</td>\n",
       "      <td>Классическая российская проза</td>\n",
       "      <td>0</td>\n",
       "      <td>Эксмо</td>\n",
       "      <td>2009</td>\n",
       "      <td>...</td>\n",
       "      <td></td>\n",
       "      <td></td>\n",
       "      <td></td>\n",
       "      <td></td>\n",
       "      <td></td>\n",
       "      <td></td>\n",
       "      <td></td>\n",
       "      <td></td>\n",
       "      <td></td>\n",
       "      <td></td>\n",
       "    </tr>\n",
       "    <tr>\n",
       "      <th>74</th>\n",
       "      <td>Достоевский Ф. М.</td>\n",
       "      <td>Преступление и наказание. В 2 томах</td>\n",
       "      <td>https://www.moscowbooks.ru/image/book/268/w259...</td>\n",
       "      <td></td>\n",
       "      <td>True</td>\n",
       "      <td>8593 руб.</td>\n",
       "      <td></td>\n",
       "      <td>0</td>\n",
       "      <td></td>\n",
       "      <td>2008</td>\n",
       "      <td>...</td>\n",
       "      <td></td>\n",
       "      <td></td>\n",
       "      <td></td>\n",
       "      <td></td>\n",
       "      <td></td>\n",
       "      <td></td>\n",
       "      <td></td>\n",
       "      <td></td>\n",
       "      <td></td>\n",
       "      <td></td>\n",
       "    </tr>\n",
       "    <tr>\n",
       "      <th>73</th>\n",
       "      <td>Достоевский Ф. М.</td>\n",
       "      <td>Идиот. Бедные люди. 1 CD: mp3</td>\n",
       "      <td>https://www.moscowbooks.ru/image/book/285/w259...</td>\n",
       "      <td></td>\n",
       "      <td>True</td>\n",
       "      <td>192 руб.</td>\n",
       "      <td></td>\n",
       "      <td>0</td>\n",
       "      <td></td>\n",
       "      <td></td>\n",
       "      <td>...</td>\n",
       "      <td></td>\n",
       "      <td></td>\n",
       "      <td></td>\n",
       "      <td></td>\n",
       "      <td></td>\n",
       "      <td></td>\n",
       "      <td>Ардис</td>\n",
       "      <td>2009</td>\n",
       "      <td>Москва</td>\n",
       "      <td></td>\n",
       "    </tr>\n",
       "  </tbody>\n",
       "</table>\n",
       "<p>5 rows × 35 columns</p>\n",
       "</div>"
      ],
      "text/plain": [
       "                Автор                             Название  \\\n",
       "77  Достоевский Ф. М.  Преступление и наказание. 2 CD: mp3   \n",
       "76  Достоевский Ф. М.        Собрание сочинений: В 4 томах   \n",
       "75  Достоевский Ф. М.                                Идиот   \n",
       "74  Достоевский Ф. М.  Преступление и наказание. В 2 томах   \n",
       "73  Достоевский Ф. М.        Идиот. Бедные люди. 1 CD: mp3   \n",
       "\n",
       "                                              Обложка Стикеры  Наличие  \\\n",
       "77  https://www.moscowbooks.ru/image/book/141/w259...             True   \n",
       "76  https://www.moscowbooks.ru/image/book/245/w259...             True   \n",
       "75  https://www.moscowbooks.ru/image/book/257/w259...             True   \n",
       "74  https://www.moscowbooks.ru/image/book/268/w259...             True   \n",
       "73  https://www.moscowbooks.ru/image/book/285/w259...             True   \n",
       "\n",
       "         Цена                          Жанры  Рейтинг   Издательство  \\\n",
       "77   240 руб.                                       0                  \n",
       "76  5912 руб.  Классическая российская проза        0  Янтарный сказ   \n",
       "75   420 руб.  Классическая российская проза        0          Эксмо   \n",
       "74  8593 руб.                                       0                  \n",
       "73   192 руб.                                       0                  \n",
       "\n",
       "   Год издания  ... Бумага Обрез Иллюстрации Язык оригинала Перевод Футляр  \\\n",
       "77              ...                                                          \n",
       "76        2008  ...                                                          \n",
       "75        2009  ...                                                          \n",
       "74        2008  ...                                                          \n",
       "73              ...                                                          \n",
       "\n",
       "   Производитель Год производства  Место производства Иллюстраторы  \n",
       "77         Ардис             2005              Москва               \n",
       "76                                                                  \n",
       "75                                                                  \n",
       "74                                                                  \n",
       "73         Ардис             2009              Москва               \n",
       "\n",
       "[5 rows x 35 columns]"
      ]
     },
     "execution_count": 19,
     "metadata": {},
     "output_type": "execute_result"
    }
   ],
   "source": [
    "df.sort_values(by=['Код товара'], inplace=True)\n",
    "df.fillna(value ='', inplace=True)\n",
    "df['Артикул'] = df['Артикул'].astype(str)\n",
    "df.head()"
   ]
  },
  {
   "cell_type": "code",
   "execution_count": 29,
   "metadata": {},
   "outputs": [],
   "source": [
    "with open('hw_3_fixed.csv', mode='w', encoding='utf-8') as f_csv:\n",
    "    df.to_csv(f_csv, index=False, escapechar=';')"
   ]
  }
 ],
 "metadata": {
  "kernelspec": {
   "display_name": "Python 3",
   "language": "python",
   "name": "python3"
  },
  "language_info": {
   "codemirror_mode": {
    "name": "ipython",
    "version": 3
   },
   "file_extension": ".py",
   "mimetype": "text/x-python",
   "name": "python",
   "nbconvert_exporter": "python",
   "pygments_lexer": "ipython3",
   "version": "3.7.5"
  }
 },
 "nbformat": 4,
 "nbformat_minor": 2
}
